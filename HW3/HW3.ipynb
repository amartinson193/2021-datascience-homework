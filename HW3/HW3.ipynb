{
 "cells": [
  {
   "cell_type": "markdown",
   "metadata": {},
   "source": [
    "# Introduction to Data Science - Homework 3\n",
    "*COMP 5360 / MATH 4100, University of Utah, http://datasciencecourse.net/*\n",
    "\n",
    "Due: Friday, February 12, 11:59pm.\n",
    "\n",
    "In this homework you will read in and analyze a movies dataset. First we'll do some basic analysis with vanilla Python, then we'll move on to doing more advanced analysis with [Pandas](http://pandas.pydata.org/pandas-docs/stable). \n"
   ]
  },
  {
   "cell_type": "markdown",
   "metadata": {},
   "source": [
    "## Your Data\n",
    "Fill out the following information: \n",
    "\n",
    "* First Name:Andreas \n",
    "* Last Name:Martinson\n",
    "* E-mail:andreas.martinson@utah.edu\n",
    "* UID:u1291396\n"
   ]
  },
  {
   "cell_type": "code",
   "execution_count": 1,
   "metadata": {},
   "outputs": [],
   "source": [
    "# imports\n",
    "import csv\n",
    "import pandas as pd\n",
    "import matplotlib.pyplot as plt\n",
    "plt.style.use('ggplot')\n",
    "%matplotlib inline"
   ]
  },
  {
   "cell_type": "markdown",
   "metadata": {},
   "source": [
    "## Part 1: Analyzing Data The Hard Way"
   ]
  },
  {
   "cell_type": "markdown",
   "metadata": {},
   "source": [
    "In this part we'll do some manual analysis of a movies dataset."
   ]
  },
  {
   "cell_type": "markdown",
   "metadata": {
    "collapsed": true
   },
   "source": [
    "### Task 1.1: Read in the data\n",
    "\n",
    "Parse the file [movies.csv](movies.csv) using the [csv library](https://docs.python.org/3/library/csv.html). Lecture 6 and might be a good inspiration for this. \n",
    "\n",
    "We recommend that you store the header in a separate array. Make sure that at least the \"ratings\" and the \"votes\" columns are cast to the appropriate data types for doing calculations with them. \n",
    "\n",
    "Print the header, a row of the table, and the number of rows and columns."
   ]
  },
  {
   "cell_type": "code",
   "execution_count": 2,
   "metadata": {},
   "outputs": [
    {
     "name": "stdout",
     "output_type": "stream",
     "text": [
      "['', 'title', 'year', 'length', 'budget', 'rating', 'votes', 'r1', 'r2', 'r3', 'r4', 'r5', 'r6', 'r7', 'r8', 'r9', 'r10', 'mpaa', 'Action', 'Animation', 'Comedy', 'Drama', 'Documentary', 'Romance', 'Short']\n",
      "['1', '$', '1971', '121', 'NA', 6.4, 348, '4.5', '4.5', '4.5', '4.5', '14.5', '24.5', '24.5', '14.5', '4.5', '4.5', '', '0', '0', '1', '1', '0', '0', '0']\n",
      "58788 25\n"
     ]
    }
   ],
   "source": [
    "# initialize the top-level array\n",
    "movies = []\n",
    "header = []\n",
    "\n",
    "import csv\n",
    "\n",
    "with open('movies.csv') as file:\n",
    "    filereader = csv.reader(file, delimiter=',',quotechar='\"')\n",
    "    count = 0\n",
    "    for row in filereader:\n",
    "        if count == 0:\n",
    "            header = row\n",
    "            rating_index = header.index('rating')\n",
    "            votes_index = header.index('votes')\n",
    "        else:\n",
    "            row[5] = float(row[rating_index]) # convert rating to float\n",
    "            row[6] = int(row[votes_index])   # convert votes to int\n",
    "            movies.append(row)\n",
    "        count +=1\n",
    "\n",
    "print(header)\n",
    "print(movies[0])\n",
    "print(len(movies), len(header))"
   ]
  },
  {
   "cell_type": "markdown",
   "metadata": {
    "collapsed": true
   },
   "source": [
    "### Task 1.2:  Calculate movie stats\n",
    "\n",
    "In this task, you will calculate some statistics about movies. We suggest you implement your solutions for Tasks 1.2.1-1.2.3 in one code cell – you should be able to calculate this in a single iteration over the dataset.\n",
    "\n",
    "#### Task 1.2.1 Calcualte average ratings\n",
    "Compute the average rating for the movies and print the output. Also print the number of movies.\n",
    "Your output could look like this:\n",
    "    \n",
    "    Average rating: xxx.xxxx, Number of movies: xx\n",
    "\n",
    "#### Task 1.2.2: Calculate average rating for major movies\n",
    "\n",
    "Compute the average rating for the movies that have more than 400 votes in your loaded dataset and print the output. (We'll call these movies with more than 400 votes *major movies* from now on).\n",
    "\n",
    "Your output could look like this:\n",
    "    \n",
    "    Average rating of movies with more than 400 votes: xxx.xxxx, Number of major movies: xx\n",
    "\n",
    "#### Task 1.2.3: Find the highest rated major movie\n",
    "\n",
    "Find out which of the movies with more than 400 votes has the highest rating.\n",
    "\n",
    "Your output could look like this:\n",
    "    \n",
    "    Highest rating: xxx.xxxx, Title: MOVIE TITLE\n",
    " \n",
    "#### Task 1.2.4: Interpret the data\n",
    " * What's the size relationship of major movies to all movies?\n",
    " * Are major movies usually better than the average movies?"
   ]
  },
  {
   "cell_type": "code",
   "execution_count": 3,
   "metadata": {},
   "outputs": [
    {
     "name": "stdout",
     "output_type": "stream",
     "text": [
      "Task 1.2.1\n",
      "\n",
      "Average rating: 5.9329, Number of movies: 58788\n",
      "\n",
      "Task 1.2.2\n",
      "\n",
      "Average rating of movies with more than 400 votes: 6.3456, Number of major movies: 7299\n",
      "\n",
      "Task 1.2.3\n",
      "\n",
      "Highest rating: 9.1000, Title: Shawshank Redemption, The\n"
     ]
    }
   ],
   "source": [
    "# Task 1.2.1\n",
    "print('Task 1.2.1\\n')\n",
    "\n",
    "avg_rating = []\n",
    "for i in movies:\n",
    "    avg_rating.append(i[rating_index])\n",
    "avg_rating_num = sum(avg_rating)/len(avg_rating)\n",
    "print('Average rating: {:.4f}, Number of movies: {}'.format(avg_rating_num, len(movies)))\n",
    "\n",
    "# Task 1.2.2\n",
    "print('\\nTask 1.2.2\\n')\n",
    "\n",
    "avg_rating400 = []\n",
    "title_rating400 = []\n",
    "for i in movies:\n",
    "    if i[votes_index] > 400:\n",
    "        avg_rating400.append(i[rating_index])\n",
    "        avg_rating400_dict = {i[rating_index]: i[header.index('title')]}\n",
    "\n",
    "avg_rating400num = sum(avg_rating400)/len(avg_rating400)\n",
    "\n",
    "print('Average rating of movies with more than 400 votes: {:.4f}, Number of major movies: {}'\\\n",
    "      .format(avg_rating400num, len(avg_rating400)))\n",
    "\n",
    "# Task 1.2.3\n",
    "print('\\nTask 1.2.3\\n')\n",
    "\n",
    "avg_rating400_max = 0\n",
    "title_rating400_max = ''\n",
    "for i in movies:\n",
    "    if i[votes_index] > 400 and i[rating_index] >= avg_rating400_max:\n",
    "        avg_rating400_max = i[rating_index]\n",
    "        title_rating400_max = i[header.index('title')]\n",
    "        \n",
    "\n",
    "print('Highest rating: {:.4f}, Title: {}'.format(avg_rating400_max,title_rating400_max))"
   ]
  },
  {
   "cell_type": "markdown",
   "metadata": {},
   "source": [
    "**Your Interpretation**: \n",
    "\n",
    "* What's the size relationship of major movies to all movies?\n",
    "\n",
    "There are roughly 10 movies for every major movie.\n",
    "\n",
    "* Are major movies usually better than the average movies?\n",
    "\n",
    "According to the rating, the major movies are more highly rated, so I guess I would have to say yes"
   ]
  },
  {
   "cell_type": "markdown",
   "metadata": {},
   "source": [
    "## Part 2: Pandas"
   ]
  },
  {
   "cell_type": "markdown",
   "metadata": {
    "collapsed": true
   },
   "source": [
    "In this part we will use the [Pandas library](http://pandas.pydata.org/pandas-docs/stable) for our analysis."
   ]
  },
  {
   "cell_type": "markdown",
   "metadata": {
    "collapsed": true
   },
   "source": [
    "### Task 2.1: Loading data\n",
    "\n",
    "Read in the data again. This time you should create a [Pandas DataFrame](http://pandas.pydata.org/pandas-docs/stable/generated/pandas.DataFrame.html). Print the head of the dataset. \n",
    " * How many data rows did you load? How many columns?\n",
    " * Of which data types are the columns? \n",
    " * Do you have to do manual data type conversions?"
   ]
  },
  {
   "cell_type": "code",
   "execution_count": 4,
   "metadata": {},
   "outputs": [
    {
     "name": "stdout",
     "output_type": "stream",
     "text": [
      "                      title  year  length  budget  rating  votes    r1    r2  \\\n",
      "1                         $  1971     121     NaN     6.4    348   4.5   4.5   \n",
      "2         $1000 a Touchdown  1939      71     NaN     6.0     20   0.0  14.5   \n",
      "3    $21 a Day Once a Month  1941       7     NaN     8.2      5   0.0   0.0   \n",
      "4                   $40,000  1996      70     NaN     8.2      6  14.5   0.0   \n",
      "5  $50,000 Climax Show, The  1975      71     NaN     3.4     17  24.5   4.5   \n",
      "\n",
      "    r3    r4  ...    r9   r10  mpaa  Action  Animation  Comedy Drama  \\\n",
      "1  4.5   4.5  ...   4.5   4.5   NaN       0          0       1     1   \n",
      "2  4.5  24.5  ...   4.5  14.5   NaN       0          0       1     0   \n",
      "3  0.0   0.0  ...  24.5  24.5   NaN       0          1       0     0   \n",
      "4  0.0   0.0  ...  34.5  45.5   NaN       0          0       1     0   \n",
      "5  0.0  14.5  ...   0.0  24.5   NaN       0          0       0     0   \n",
      "\n",
      "   Documentary  Romance  Short  \n",
      "1            0        0      0  \n",
      "2            0        0      0  \n",
      "3            0        0      1  \n",
      "4            0        0      0  \n",
      "5            0        0      0  \n",
      "\n",
      "[5 rows x 24 columns]\n",
      "Q1: How many data rows did you load? How many columns?\n",
      "There are 58788 rows and 24 columns\n",
      "\n",
      "Q2: Of which data types are the columns?\n",
      "Here are the column data types:\n",
      "\n",
      "<class 'pandas.core.frame.DataFrame'>\n",
      "Int64Index: 58788 entries, 1 to 58788\n",
      "Data columns (total 24 columns):\n",
      " #   Column       Non-Null Count  Dtype  \n",
      "---  ------       --------------  -----  \n",
      " 0   title        58788 non-null  object \n",
      " 1   year         58788 non-null  int64  \n",
      " 2   length       58788 non-null  int64  \n",
      " 3   budget       5215 non-null   float64\n",
      " 4   rating       58788 non-null  float64\n",
      " 5   votes        58788 non-null  int64  \n",
      " 6   r1           58788 non-null  float64\n",
      " 7   r2           58788 non-null  float64\n",
      " 8   r3           58788 non-null  float64\n",
      " 9   r4           58788 non-null  float64\n",
      " 10  r5           58788 non-null  float64\n",
      " 11  r6           58788 non-null  float64\n",
      " 12  r7           58788 non-null  float64\n",
      " 13  r8           58788 non-null  float64\n",
      " 14  r9           58788 non-null  float64\n",
      " 15  r10          58788 non-null  float64\n",
      " 16  mpaa         4924 non-null   object \n",
      " 17  Action       58788 non-null  int64  \n",
      " 18  Animation    58788 non-null  int64  \n",
      " 19  Comedy       58788 non-null  int64  \n",
      " 20  Drama        58788 non-null  int64  \n",
      " 21  Documentary  58788 non-null  int64  \n",
      " 22  Romance      58788 non-null  int64  \n",
      " 23  Short        58788 non-null  int64  \n",
      "dtypes: float64(12), int64(10), object(2)\n",
      "memory usage: 11.2+ MB\n",
      "\n",
      "Do you have to do manual data type conversions?\n",
      "It doesn't look like it\n"
     ]
    }
   ],
   "source": [
    "import pandas as pd\n",
    "\n",
    "movies_df = pd.read_csv('movies.csv', index_col = 0)\n",
    "print(movies_df.head())\n",
    "\n",
    "print('Q1: How many data rows did you load? How many columns?')\n",
    "print('There are {} rows and {} columns\\n'.format(movies_df.shape[0], movies_df.shape[1]))\n",
    "print('Q2: Of which data types are the columns?')\n",
    "print('Here are the column data types:\\n')\n",
    "movies_df.info()\n",
    "print('\\nDo you have to do manual data type conversions?')\n",
    "print('It doesn\\'t look like it')"
   ]
  },
  {
   "cell_type": "markdown",
   "metadata": {},
   "source": [
    "**Your Interpretation**: I included my interpretations as print statements in the code section"
   ]
  },
  {
   "cell_type": "markdown",
   "metadata": {},
   "source": [
    "### Task 2.2: Calculate the average rating\n",
    "\n",
    "Compute the average rating for all movies and print the output in a formatted way.\n",
    "\n",
    "Your output could look like this:\n",
    "    \n",
    "    Average rating: xxx.xxxx"
   ]
  },
  {
   "cell_type": "code",
   "execution_count": 5,
   "metadata": {},
   "outputs": [
    {
     "name": "stdout",
     "output_type": "stream",
     "text": [
      "Average rating: 5.9329\n"
     ]
    }
   ],
   "source": [
    "print('Average rating: {:.4f}'.format(movies_df.loc[:,'rating'].mean()))"
   ]
  },
  {
   "cell_type": "markdown",
   "metadata": {},
   "source": [
    "### Task 2.3: Compare the runtime\n",
    "\n",
    "We want to measure the runtime of the mean calculation using [Pandas](http://pandas.pydata.org/pandas-docs/stable) and compare it to the computation time for calculating the mean using a for loop (you can copy the relevant parts from Task 1). However, since this dataset still not very large, run the mean calculations 200 times in a loop and measure that. \n",
    "\n",
    "You can use [time.process_time()](https://docs.python.org/3/library/time.html#time.process_time) to set timestamps before and after the execution of the code you want to measure, then you simply subtract end time from start time.\n",
    "\n",
    "Print your results in a human readable way and add a metric to the output. Calculate the factor of the difference and print it. Note that the exact times and the factors will vary when you re-run this and especially between machines. \n",
    "\n",
    "E.g.:  \n",
    "    time using own code: xxx.xxx s  \n",
    "    time using Pandas: xxx.xxx s  \n",
    "    difference factor: xxx\n",
    "    \n",
    "Interpret the results. Is this difference substantial?     "
   ]
  },
  {
   "cell_type": "code",
   "execution_count": 6,
   "metadata": {},
   "outputs": [
    {
     "name": "stdout",
     "output_type": "stream",
     "text": [
      "time using own code: 238.75\n",
      "\n",
      "time using Pandas: 0.015625\n",
      "\n",
      "difference factor: 15280.0\n",
      "\n"
     ]
    }
   ],
   "source": [
    "import time\n",
    "\n",
    "beg_time_manual = time.process_time()\n",
    "\n",
    "for x in range(20):\n",
    "    avg_rating = []\n",
    "    for i in movies:\n",
    "        avg_rating.append(i[rating_index])\n",
    "        avg_rating_num = sum(avg_rating)/len(avg_rating)\n",
    "\n",
    "end_time_manual = time.process_time()\n",
    "\n",
    "beg_time_pandas = time.process_time()\n",
    "\n",
    "for x in range(20):\n",
    "    movies_df.loc[:,'rating'].mean()\n",
    "    \n",
    "end_time_pandas = time.process_time()\n",
    "\n",
    "manual_diff = end_time_manual-beg_time_manual\n",
    "pandas_diff = end_time_pandas-beg_time_pandas\n",
    "diff_factor = manual_diff/pandas_diff\n",
    "\n",
    "print('time using own code: {}\\n'.format(manual_diff))\n",
    "print('time using Pandas: {}\\n'.format(pandas_diff))\n",
    "print('difference factor: {}\\n'.format(diff_factor))"
   ]
  },
  {
   "cell_type": "markdown",
   "metadata": {},
   "source": [
    "**Your Interpretation**: I only ran this with 20 loops since it took too long using 200. When looking at this just using 20 loops for each process, I would say the difference is substantial with a factor of 15,280. It is 15,280 times faster to us pandas than to use the manual process"
   ]
  },
  {
   "cell_type": "markdown",
   "metadata": {},
   "source": [
    "### Task 2.4: Filter out Rows\n",
    "\n",
    "The whole movies dataset has about 60k entries. Use pandas to filter your dataframe to contain only the major movies with more than 400 votes.\n",
    "\n",
    "Count and print the number of movies with more than 400 votes. \n",
    "\n",
    "E.g.:\n",
    "    xxx.xxx movies have more than 400 votes."
   ]
  },
  {
   "cell_type": "code",
   "execution_count": 144,
   "metadata": {},
   "outputs": [
    {
     "name": "stdout",
     "output_type": "stream",
     "text": [
      "7299 movies have more than 400 votes.\n"
     ]
    }
   ],
   "source": [
    "movies_df400 = movies_df[movies_df['votes']>400]\n",
    "print('{} movies have more than 400 votes.'.format(movies_df400.shape[0])) "
   ]
  },
  {
   "cell_type": "markdown",
   "metadata": {},
   "source": [
    "### Task 2.5: Calculate the average rating for major movies\n",
    "\n",
    "Compute the average rating for the major movies.\n",
    "Your output could look like this:\n",
    "    \n",
    "    Average rating of major movies: xxx.xxxx"
   ]
  },
  {
   "cell_type": "code",
   "execution_count": 146,
   "metadata": {},
   "outputs": [
    {
     "name": "stdout",
     "output_type": "stream",
     "text": [
      "Average rating of major movies: 6.3456\n"
     ]
    }
   ],
   "source": [
    "print('Average rating of major movies: {:.4f}'.format(movies_df400.loc[:,'rating'].mean()))"
   ]
  },
  {
   "cell_type": "markdown",
   "metadata": {},
   "source": [
    "### Task 2.6: Find the highest rated major movie\n",
    "\n",
    "Find the highest rated major movie in the dataframe. Hint: [idxmax()](http://pandas.pydata.org/pandas-docs/stable/generated/pandas.Series.idxmax.html) could be a helpful function, or you could sort by rating and retrieve the first element. \n",
    "\n",
    "Print the title and the rating.\n",
    "\n",
    "Your output could look like this:\n",
    "    \n",
    "    Highest rated movie: TITLE, rating: x.x\n"
   ]
  },
  {
   "cell_type": "code",
   "execution_count": 167,
   "metadata": {
    "scrolled": true
   },
   "outputs": [
    {
     "data": {
      "text/plain": [
       "title     Shawshank Redemption, The\n",
       "rating                          9.1\n",
       "Name: 46269, dtype: object"
      ]
     },
     "execution_count": 167,
     "metadata": {},
     "output_type": "execute_result"
    }
   ],
   "source": [
    "highest_rated_movie = movies_df.sort_values('rating', ascending=False).iloc[0][['title','rating']]\n",
    "\n",
    "print('Highest rated movie: {}, rating: {}'.format(highest_rated_movie['title'],highest_rated_movie['rating'] ))"
   ]
  },
  {
   "cell_type": "markdown",
   "metadata": {},
   "source": [
    "### Task 2.7: Filter out rows and count specific features\n",
    "\n",
    "From the major movies you filtered out in a previous task, find out \n",
    " * How many are comedies.\n",
    " * How many are dramas\n",
    " * How many are both, comedies and dramas\n",
    " \n",
    "Create new dataframed for each of these subsets.\n",
    "\n",
    "Hint: you can combine broadcasting statements with a boolean AND by using the `&` operator.\n",
    "\n",
    "Print the results, e.g.:  \n",
    "\n",
    "    xxx.xxx major movies are comedies.\n",
    "    xxx.xxx major movies are dramas.\n",
    "    xxx.xxx major movies are both, comedies and dramas."
   ]
  },
  {
   "cell_type": "code",
   "execution_count": 185,
   "metadata": {},
   "outputs": [
    {
     "name": "stdout",
     "output_type": "stream",
     "text": [
      "2853 major movies are comedies\n",
      "3771 major movies are dramas\n",
      "894 major movies are both, comedies and dramas\n"
     ]
    }
   ],
   "source": [
    "print('{} major movies are comedies'.format(movies_df400['Comedy'].sum()))\n",
    "print('{} major movies are dramas'.format(movies_df400['Drama'].sum()))\n",
    "print('{} major movies are both, comedies and dramas'.format(\\\n",
    "                movies_df400[(movies_df400['Drama'] == 1)&(movies_df400['Comedy'] == 1)].shape[0]\\\n",
    "                                                            ))"
   ]
  },
  {
   "cell_type": "markdown",
   "metadata": {},
   "source": [
    "### Task 2.8: Compare ratings of different categories\n",
    "\n",
    "Now we want to compare the ratings for comedies and dramas for major movies.\n",
    "\n",
    "Compute the average rating, maximum rating, minimum rating, standard deviation, and the median for each category. Hint: there is a function that does all of this in one line. \n",
    "\n",
    "What do these numbers tell us? Provide an interpretation."
   ]
  },
  {
   "cell_type": "code",
   "execution_count": 196,
   "metadata": {},
   "outputs": [
    {
     "name": "stdout",
     "output_type": "stream",
     "text": [
      "         count      mean       std  min  25%  50%  75%  max\n",
      "Comedy                                                     \n",
      "1       2853.0  6.117525  1.191856  1.7  5.3  6.2  7.0  8.9\n",
      "        count      mean       std  min  25%  50%  75%  max\n",
      "Drama                                                     \n",
      "1      3771.0  6.732432  0.990911  1.3  6.1  6.9  7.4  9.1\n"
     ]
    }
   ],
   "source": [
    "print(movies_df400[movies_df400['Comedy']==1].groupby(['Comedy'])['rating'].describe())\n",
    "print(movies_df400[movies_df400['Drama']==1].groupby(['Drama'])['rating'].describe())\n"
   ]
  },
  {
   "cell_type": "markdown",
   "metadata": {},
   "source": [
    "**Your Interpretation**: \n",
    "\n",
    "Drama has a higher average rating and higher median, which means that the majority of people rate dramas higher than comedies. \n",
    "Comedy has a larger standard deviation, possibly indicating that there are larger differences in opinions of the movies for comedy than for drama."
   ]
  },
  {
   "cell_type": "markdown",
   "metadata": {},
   "source": [
    "### Task 2.9: Movies per year\n",
    "\n",
    "Calcluate how many major movies in this dataset were made in each year.\n",
    "\n",
    "Print the number like this, sorted by year:\n",
    "\n",
    "    year   number of movies\n",
    "    1902    xxx\n",
    "    1903    xxx\n",
    "    ...     ...\n",
    "\n",
    "Use this data to render a line chart of the number of movies per year."
   ]
  },
  {
   "cell_type": "code",
   "execution_count": 256,
   "metadata": {},
   "outputs": [],
   "source": [
    "# your code goes here\n",
    "# movies_df.groupby(['year'], as_index=False).count()\n",
    "movies_df['number of movies']=1\n",
    "movies_yr = movies_df.groupby('year', as_index=False).sum().loc[:,['year','number of movies']]\n",
    "\n"
   ]
  },
  {
   "cell_type": "code",
   "execution_count": 257,
   "metadata": {},
   "outputs": [
    {
     "data": {
      "text/plain": [
       "[<matplotlib.lines.Line2D at 0x24514cfcdc0>]"
      ]
     },
     "execution_count": 257,
     "metadata": {},
     "output_type": "execute_result"
    },
    {
     "data": {
      "image/png": "[encoded data removed]",
      "text/plain": [
       "<Figure size 432x288 with 1 Axes>"
      ]
     },
     "metadata": {
      "needs_background": "light"
     },
     "output_type": "display_data"
    }
   ],
   "source": [
    "import matplotlib.pyplot as plt\n",
    "\n",
    "plt.plot(movies_yr['year'], movies_yr['number of movies'])"
   ]
  },
  {
   "cell_type": "markdown",
   "metadata": {},
   "source": [
    "### Task 2.10: Yearly average\n",
    "\n",
    "Compute the average rating per year for all major movies.  \n",
    "Use the numbers you computed to plot a line chart. Plot the year on the x-axis and the average rating on th y axis.  "
   ]
  },
  {
   "cell_type": "code",
   "execution_count": 258,
   "metadata": {},
   "outputs": [
    {
     "data": {
      "text/plain": [
       "[<matplotlib.lines.Line2D at 0x2450f79dbe0>]"
      ]
     },
     "execution_count": 258,
     "metadata": {},
     "output_type": "execute_result"
    },
    {
     "data": {
      "image/png": "[encoded data removed]",
      "text/plain": [
       "<Figure size 432x288 with 1 Axes>"
      ]
     },
     "metadata": {
      "needs_background": "light"
     },
     "output_type": "display_data"
    }
   ],
   "source": [
    "avg_rating_yr = movies_df.groupby('year', as_index=False)['rating'].mean()\n",
    "\n",
    "plt.plot(avg_rating_yr['year'], avg_rating_yr['rating'])"
   ]
  },
  {
   "cell_type": "markdown",
   "metadata": {},
   "source": [
    "### Task 2.11: Explore and Interpret\n",
    "\n",
    "Are old movies better? How could you explain this? \n",
    "\n",
    "Are there differences between the rating of major movies and all movies over time? \n",
    "\n",
    "Continue to explore and use plots to inform your answer. Interesting measures to consider are the total number of votes per year, the average number of votes for a movie in a particular year, etc. "
   ]
  },
  {
   "cell_type": "code",
   "execution_count": 284,
   "metadata": {},
   "outputs": [
    {
     "name": "stdout",
     "output_type": "stream",
     "text": [
      "We can look at the correlation of time and the average rating. Here the correlation is slightly positive with a value of 0.0396. This indicates that movies might be getting better over time, but the evidence isn't very strong considering how low the correlation is.\n",
      "\n",
      "We can also look at the correlation coefficient plotted as a line over time. Again, there doesn't visually seem to be an indication that movies have gotten better over time\n"
     ]
    },
    {
     "data": {
      "image/png": "[encoded data removed]",
      "text/plain": [
       "<Figure size 432x288 with 1 Axes>"
      ]
     },
     "metadata": {
      "needs_background": "light"
     },
     "output_type": "display_data"
    },
    {
     "name": "stdout",
     "output_type": "stream",
     "text": [
      "Lastly, we can look at the mean. Old movies (1960 and older) have a mean rating of 6.24. More recent movies have a mean rating of 5.82. Using this logic you could argue old movies are better. Another way to say they are better is by looking at the max rating - it was in the 'old movies' group. However, you can see new movies are starting to increase their ratings. so they are catching up\n",
      "You can use a plot to help explore this concept, see the plot below:\n"
     ]
    },
    {
     "data": {
      "image/png": "[encoded data removed]",
      "text/plain": [
       "<Figure size 432x288 with 1 Axes>"
      ]
     },
     "metadata": {
      "needs_background": "light"
     },
     "output_type": "display_data"
    }
   ],
   "source": [
    "# Are old movies better?\n",
    "\n",
    "import numpy as np\n",
    "import seaborn as sns\n",
    "import matplotlib.pyplot as plt\n",
    "\n",
    "corr = np.corrcoef(avg_rating_yr['year'], avg_rating_yr['rating'])[0][1]\n",
    "print('We can look at the correlation of time and the average rating. Here the correlation is slightly \\\n",
    "positive with a value of {:.4f}. This indicates that movies might be getting better over time, but \\\n",
    "the evidence isn\\'t very strong considering how low the correlation is.'.format(corr))\n",
    "\n",
    "print('\\nWe can also look at the correlation coefficient plotted as a line over time. Again, there doesn\\'t visually seem \\\n",
    "to be an indication that movies have gotten better over time')\n",
    "sns.regplot(x=avg_rating_yr['year'], y=avg_rating_yr['rating'])\n",
    "plt.title('Rating over time')\n",
    "plt.show()\n",
    "\n",
    "old_movies = movies_df[movies_df['year'] < 1960]\n",
    "morerecent_movies = movies_df[movies_df['year'] >= 1960]\n",
    "print('Lastly, we can look at the mean. Old movies (1960 and older) have a mean rating of {:.2f}. More recent \\\n",
    "movies have a mean rating of {:.2f}. Using this logic you could argue old movies are better. Another way to say they \\\n",
    "are better is by looking at the max rating - it was in the \\'old movies\\' group. However, you can see new movies are \\\n",
    "starting to increase their ratings. so they are catching up'.format(old_movies['rating'].mean(), morerecent_movies['rating'].mean()))\n",
    "\n",
    "# Are there differences between the rating of major movies and all movies over time?\n",
    "\n",
    "print('You can use a plot to help explore this concept, see the plot below:')\n",
    "\n",
    "major_movies_rating_over_time = movies_df400.groupby('year', as_index=False)['rating'].mean()\n",
    "\n",
    "plt.plot(major_movies_rating_over_time['year'], major_movies_rating_over_time['rating'], color='green')\n",
    "plt.plot(avg_rating_yr['year'], avg_rating_yr['rating'], color='blue')\n",
    "plt.legend(['major','all_movies'])\n",
    "plt.show()\n",
    "\n",
    "print('\\nThe two plots look correlated, however, all movies seem to be trending better than the major movies since about the year 2000')"
   ]
  },
  {
   "cell_type": "markdown",
   "metadata": {},
   "source": [
    "**Your interpretation**: TODO"
   ]
  }
 ],
 "metadata": {
  "anaconda-cloud": {},
  "kernelspec": {
   "display_name": "Python 3",
   "language": "python",
   "name": "python3"
  },
  "language_info": {
   "codemirror_mode": {
    "name": "ipython",
    "version": 3
   },
   "file_extension": ".py",
   "mimetype": "text/x-python",
   "name": "python",
   "nbconvert_exporter": "python",
   "pygments_lexer": "ipython3",
   "version": "3.8.6"
  }
 },
 "nbformat": 4,
 "nbformat_minor": 1
}
